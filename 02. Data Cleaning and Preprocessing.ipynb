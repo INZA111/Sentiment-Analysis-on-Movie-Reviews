{
 "cells": [
  {
   "cell_type": "markdown",
   "metadata": {},
   "source": [
    "# Sentiment Analysis on Movie Reviews Data Cleaning and Pre-Processing "
   ]
  },
  {
   "cell_type": "code",
   "execution_count": 1,
   "metadata": {},
   "outputs": [],
   "source": [
    "import pandas as pd\n",
    "import numpy as np\n",
    "import matplotlib.pyplot as plt\n",
    "import seaborn as sbn\n",
    "import warnings\n",
    "from sklearn.naive_bayes import MultinomialNB\n",
    "from sklearn.metrics import accuracy_score\n",
    "import re\n",
    "from sklearn.feature_extraction.text import TfidfVectorizer,CountVectorizer\n",
    "from nltk.tokenize import word_tokenize\n",
    "from nltk.stem import PorterStemmer\n",
    "from nltk.corpus import stopwords\n",
    "from scipy.sparse import hstack\n",
    "from sklearn.multiclass import OneVsRestClassifier\n",
    "from sklearn.linear_model import SGDClassifier\n",
    "import string\n",
    "\n",
    "stem=PorterStemmer()\n",
    "stop_words=set(stopwords.words('english'))\n",
    "warnings.filterwarnings(\"ignore\")"
   ]
  },
  {
   "cell_type": "markdown",
   "metadata": {},
   "source": [
    "<b> Data Source: <b> https://www.kaggle.com/c/sentiment-analysis-on-movie-reviews"
   ]
  },
  {
   "cell_type": "markdown",
   "metadata": {},
   "source": [
    "### Attribute Information:"
   ]
  },
  {
   "cell_type": "markdown",
   "metadata": {},
   "source": [
    "1. Phrase Id\n",
    "2. Sentence Id\n",
    "3. Phrase\n",
    "4. Sentiment"
   ]
  },
  {
   "cell_type": "markdown",
   "metadata": {},
   "source": [
    "#### Objective: "
   ]
  },
  {
   "cell_type": "markdown",
   "metadata": {},
   "source": [
    "Our main objective for this analysis is to train a model which can seperate the postive and negative reviews. "
   ]
  },
  {
   "cell_type": "markdown",
   "metadata": {},
   "source": [
    "#### While pre-processing the original dataset we have taken into consideration the following points. "
   ]
  },
  {
   "cell_type": "markdown",
   "metadata": {},
   "source": [
    "1. We will classify a review to be positive if and only if the corresponding Score for the given review is 3 or 4.\n",
    "2. We will classify a review to be negative if and only if the corresponding Score for the given review is 0 or 1.\n",
    "3. We will ignore the reviews for the time being which has a Score rating of 2. Because 2 can be thought of as a neutral review. It's neither negative nor positive.\n",
    "4. We will remove the duplicate entries from the dataset.\n",
    "5. We will train our final model using four featurizations -> bag of words model, tf-idf model, average word-to-vec model and tf-idf weighted word-to-vec model.\n",
    "6. So at end of the training the model will be trained on the above four featurizations to determine if a given review is positive or negative."
   ]
  },
  {
   "cell_type": "markdown",
   "metadata": {},
   "source": [
    "## 1. Reading Raw Data "
   ]
  },
  {
   "cell_type": "code",
   "execution_count": 3,
   "metadata": {},
   "outputs": [
    {
     "name": "stdout",
     "output_type": "stream",
     "text": [
      "shape (156060, 4)\n"
     ]
    },
    {
     "data": {
      "text/html": [
       "<div>\n",
       "<style scoped>\n",
       "    .dataframe tbody tr th:only-of-type {\n",
       "        vertical-align: middle;\n",
       "    }\n",
       "\n",
       "    .dataframe tbody tr th {\n",
       "        vertical-align: top;\n",
       "    }\n",
       "\n",
       "    .dataframe thead th {\n",
       "        text-align: right;\n",
       "    }\n",
       "</style>\n",
       "<table border=\"1\" class=\"dataframe\">\n",
       "  <thead>\n",
       "    <tr style=\"text-align: right;\">\n",
       "      <th></th>\n",
       "      <th>PhraseId</th>\n",
       "      <th>SentenceId</th>\n",
       "      <th>Phrase</th>\n",
       "      <th>Sentiment</th>\n",
       "    </tr>\n",
       "  </thead>\n",
       "  <tbody>\n",
       "    <tr>\n",
       "      <th>0</th>\n",
       "      <td>1</td>\n",
       "      <td>1</td>\n",
       "      <td>A series of escapades demonstrating the adage ...</td>\n",
       "      <td>1</td>\n",
       "    </tr>\n",
       "    <tr>\n",
       "      <th>1</th>\n",
       "      <td>2</td>\n",
       "      <td>1</td>\n",
       "      <td>A series of escapades demonstrating the adage ...</td>\n",
       "      <td>2</td>\n",
       "    </tr>\n",
       "    <tr>\n",
       "      <th>2</th>\n",
       "      <td>3</td>\n",
       "      <td>1</td>\n",
       "      <td>A series</td>\n",
       "      <td>2</td>\n",
       "    </tr>\n",
       "    <tr>\n",
       "      <th>3</th>\n",
       "      <td>4</td>\n",
       "      <td>1</td>\n",
       "      <td>A</td>\n",
       "      <td>2</td>\n",
       "    </tr>\n",
       "    <tr>\n",
       "      <th>4</th>\n",
       "      <td>5</td>\n",
       "      <td>1</td>\n",
       "      <td>series</td>\n",
       "      <td>2</td>\n",
       "    </tr>\n",
       "  </tbody>\n",
       "</table>\n",
       "</div>"
      ],
      "text/plain": [
       "   PhraseId  SentenceId                                             Phrase  \\\n",
       "0         1           1  A series of escapades demonstrating the adage ...   \n",
       "1         2           1  A series of escapades demonstrating the adage ...   \n",
       "2         3           1                                           A series   \n",
       "3         4           1                                                  A   \n",
       "4         5           1                                             series   \n",
       "\n",
       "   Sentiment  \n",
       "0          1  \n",
       "1          2  \n",
       "2          2  \n",
       "3          2  \n",
       "4          2  "
      ]
     },
     "execution_count": 3,
     "metadata": {},
     "output_type": "execute_result"
    }
   ],
   "source": [
    "data = pd.read_csv('data.tsv.zip', delimiter='\\t')\n",
    "# data= data[1:1000]\n",
    "print(\"shape\",np.shape(data))\n",
    "data.head(5)"
   ]
  },
  {
   "cell_type": "code",
   "execution_count": 4,
   "metadata": {},
   "outputs": [
    {
     "data": {
      "text/html": [
       "<div>\n",
       "<style scoped>\n",
       "    .dataframe tbody tr th:only-of-type {\n",
       "        vertical-align: middle;\n",
       "    }\n",
       "\n",
       "    .dataframe tbody tr th {\n",
       "        vertical-align: top;\n",
       "    }\n",
       "\n",
       "    .dataframe thead th {\n",
       "        text-align: right;\n",
       "    }\n",
       "</style>\n",
       "<table border=\"1\" class=\"dataframe\">\n",
       "  <thead>\n",
       "    <tr style=\"text-align: right;\">\n",
       "      <th></th>\n",
       "      <th>PhraseId</th>\n",
       "      <th>SentenceId</th>\n",
       "      <th>Phrase</th>\n",
       "      <th>Sentiment</th>\n",
       "    </tr>\n",
       "  </thead>\n",
       "  <tbody>\n",
       "    <tr>\n",
       "      <th>0</th>\n",
       "      <td>1</td>\n",
       "      <td>1</td>\n",
       "      <td>A series of escapades demonstrating the adage ...</td>\n",
       "      <td>1</td>\n",
       "    </tr>\n",
       "    <tr>\n",
       "      <th>1</th>\n",
       "      <td>2</td>\n",
       "      <td>1</td>\n",
       "      <td>A series of escapades demonstrating the adage ...</td>\n",
       "      <td>2</td>\n",
       "    </tr>\n",
       "    <tr>\n",
       "      <th>2</th>\n",
       "      <td>3</td>\n",
       "      <td>1</td>\n",
       "      <td>A series</td>\n",
       "      <td>2</td>\n",
       "    </tr>\n",
       "    <tr>\n",
       "      <th>3</th>\n",
       "      <td>4</td>\n",
       "      <td>1</td>\n",
       "      <td>A</td>\n",
       "      <td>2</td>\n",
       "    </tr>\n",
       "    <tr>\n",
       "      <th>4</th>\n",
       "      <td>5</td>\n",
       "      <td>1</td>\n",
       "      <td>series</td>\n",
       "      <td>2</td>\n",
       "    </tr>\n",
       "  </tbody>\n",
       "</table>\n",
       "</div>"
      ],
      "text/plain": [
       "   PhraseId  SentenceId                                             Phrase  \\\n",
       "0         1           1  A series of escapades demonstrating the adage ...   \n",
       "1         2           1  A series of escapades demonstrating the adage ...   \n",
       "2         3           1                                           A series   \n",
       "3         4           1                                                  A   \n",
       "4         5           1                                             series   \n",
       "\n",
       "   Sentiment  \n",
       "0          1  \n",
       "1          2  \n",
       "2          2  \n",
       "3          2  \n",
       "4          2  "
      ]
     },
     "execution_count": 4,
     "metadata": {},
     "output_type": "execute_result"
    }
   ],
   "source": [
    "train= data.copy()\n",
    "train.head()"
   ]
  },
  {
   "cell_type": "code",
   "execution_count": 5,
   "metadata": {},
   "outputs": [
    {
     "name": "stdout",
     "output_type": "stream",
     "text": [
      "<class 'pandas.core.frame.DataFrame'>\n",
      "RangeIndex: 156060 entries, 0 to 156059\n",
      "Data columns (total 4 columns):\n",
      " #   Column      Non-Null Count   Dtype \n",
      "---  ------      --------------   ----- \n",
      " 0   PhraseId    156060 non-null  int64 \n",
      " 1   SentenceId  156060 non-null  int64 \n",
      " 2   Phrase      156060 non-null  object\n",
      " 3   Sentiment   156060 non-null  int64 \n",
      "dtypes: int64(3), object(1)\n",
      "memory usage: 4.8+ MB\n"
     ]
    }
   ],
   "source": [
    "train.info()"
   ]
  },
  {
   "cell_type": "code",
   "execution_count": 6,
   "metadata": {},
   "outputs": [
    {
     "name": "stdout",
     "output_type": "stream",
     "text": [
      "The columns in data are as follows:\n"
     ]
    },
    {
     "data": {
      "text/plain": [
       "PhraseId       int64\n",
       "SentenceId     int64\n",
       "Phrase        object\n",
       "Sentiment      int64\n",
       "dtype: object"
      ]
     },
     "execution_count": 6,
     "metadata": {},
     "output_type": "execute_result"
    }
   ],
   "source": [
    "print(\"The columns in data are as follows:\")\n",
    "train.dtypes"
   ]
  },
  {
   "cell_type": "code",
   "execution_count": 7,
   "metadata": {},
   "outputs": [
    {
     "data": {
      "text/html": [
       "<div>\n",
       "<style scoped>\n",
       "    .dataframe tbody tr th:only-of-type {\n",
       "        vertical-align: middle;\n",
       "    }\n",
       "\n",
       "    .dataframe tbody tr th {\n",
       "        vertical-align: top;\n",
       "    }\n",
       "\n",
       "    .dataframe thead th {\n",
       "        text-align: right;\n",
       "    }\n",
       "</style>\n",
       "<table border=\"1\" class=\"dataframe\">\n",
       "  <thead>\n",
       "    <tr style=\"text-align: right;\">\n",
       "      <th></th>\n",
       "      <th>PhraseId</th>\n",
       "      <th>SentenceId</th>\n",
       "      <th>Sentiment</th>\n",
       "    </tr>\n",
       "  </thead>\n",
       "  <tbody>\n",
       "    <tr>\n",
       "      <th>count</th>\n",
       "      <td>156060.000000</td>\n",
       "      <td>156060.000000</td>\n",
       "      <td>156060.000000</td>\n",
       "    </tr>\n",
       "    <tr>\n",
       "      <th>mean</th>\n",
       "      <td>78030.500000</td>\n",
       "      <td>4079.732744</td>\n",
       "      <td>2.063578</td>\n",
       "    </tr>\n",
       "    <tr>\n",
       "      <th>std</th>\n",
       "      <td>45050.785842</td>\n",
       "      <td>2502.764394</td>\n",
       "      <td>0.893832</td>\n",
       "    </tr>\n",
       "    <tr>\n",
       "      <th>min</th>\n",
       "      <td>1.000000</td>\n",
       "      <td>1.000000</td>\n",
       "      <td>0.000000</td>\n",
       "    </tr>\n",
       "    <tr>\n",
       "      <th>25%</th>\n",
       "      <td>39015.750000</td>\n",
       "      <td>1861.750000</td>\n",
       "      <td>2.000000</td>\n",
       "    </tr>\n",
       "    <tr>\n",
       "      <th>50%</th>\n",
       "      <td>78030.500000</td>\n",
       "      <td>4017.000000</td>\n",
       "      <td>2.000000</td>\n",
       "    </tr>\n",
       "    <tr>\n",
       "      <th>75%</th>\n",
       "      <td>117045.250000</td>\n",
       "      <td>6244.000000</td>\n",
       "      <td>3.000000</td>\n",
       "    </tr>\n",
       "    <tr>\n",
       "      <th>max</th>\n",
       "      <td>156060.000000</td>\n",
       "      <td>8544.000000</td>\n",
       "      <td>4.000000</td>\n",
       "    </tr>\n",
       "  </tbody>\n",
       "</table>\n",
       "</div>"
      ],
      "text/plain": [
       "            PhraseId     SentenceId      Sentiment\n",
       "count  156060.000000  156060.000000  156060.000000\n",
       "mean    78030.500000    4079.732744       2.063578\n",
       "std     45050.785842    2502.764394       0.893832\n",
       "min         1.000000       1.000000       0.000000\n",
       "25%     39015.750000    1861.750000       2.000000\n",
       "50%     78030.500000    4017.000000       2.000000\n",
       "75%    117045.250000    6244.000000       3.000000\n",
       "max    156060.000000    8544.000000       4.000000"
      ]
     },
     "execution_count": 7,
     "metadata": {},
     "output_type": "execute_result"
    }
   ],
   "source": [
    "#Describe the dataset\n",
    "train.describe()"
   ]
  },
  {
   "cell_type": "markdown",
   "metadata": {},
   "source": [
    "### Checking for null values in data "
   ]
  },
  {
   "cell_type": "code",
   "execution_count": 8,
   "metadata": {},
   "outputs": [
    {
     "data": {
      "text/plain": [
       "PhraseId      0\n",
       "SentenceId    0\n",
       "Phrase        0\n",
       "Sentiment     0\n",
       "dtype: int64"
      ]
     },
     "execution_count": 8,
     "metadata": {},
     "output_type": "execute_result"
    }
   ],
   "source": [
    "train.isnull().sum()"
   ]
  },
  {
   "cell_type": "markdown",
   "metadata": {},
   "source": [
    "### Checking the Duplicate values "
   ]
  },
  {
   "cell_type": "code",
   "execution_count": 9,
   "metadata": {},
   "outputs": [
    {
     "name": "stdout",
     "output_type": "stream",
     "text": [
      "The number of Duplicate values : 0\n"
     ]
    }
   ],
   "source": [
    "print(\"The number of Duplicate values :\",train.duplicated().sum())"
   ]
  },
  {
   "cell_type": "markdown",
   "metadata": {},
   "source": [
    "### Number of reviews corresponding to each of the ratings. "
   ]
  },
  {
   "cell_type": "code",
   "execution_count": 10,
   "metadata": {},
   "outputs": [
    {
     "data": {
      "image/png": "[encoded data removed]",
      "text/plain": [
       "<Figure size 720x360 with 1 Axes>"
      ]
     },
     "metadata": {
      "needs_background": "light"
     },
     "output_type": "display_data"
    }
   ],
   "source": [
    "import seaborn as sns\n",
    "plt.figure(figsize=(10,5))\n",
    "sns.countplot(train['Sentiment'], palette='gist_rainbow')\n",
    "plt.title(\"Distribution of Ratings across the whole dataset\")\n",
    "plt.xlabel(\"Ratings of Reviews\")\n",
    "plt.ylabel(\"Number of reviews corresponding to each of the 5 ratings\")\n",
    "plt.show()\n"
   ]
  },
  {
   "cell_type": "code",
   "execution_count": 11,
   "metadata": {},
   "outputs": [
    {
     "name": "stdout",
     "output_type": "stream",
     "text": [
      "2    79582\n",
      "3    32927\n",
      "1    27273\n",
      "4     9206\n",
      "0     7072\n",
      "Name: Sentiment, dtype: int64\n"
     ]
    }
   ],
   "source": [
    "print(train['Sentiment'].value_counts())"
   ]
  },
  {
   "cell_type": "code",
   "execution_count": 12,
   "metadata": {},
   "outputs": [
    {
     "data": {
      "text/plain": [
       "Text(0.5, 1.0, '')"
      ]
     },
     "execution_count": 12,
     "metadata": {},
     "output_type": "execute_result"
    },
    {
     "data": {
      "image/png": "[encoded data removed]",
      "text/plain": [
       "<Figure size 432x288 with 1 Axes>"
      ]
     },
     "metadata": {},
     "output_type": "display_data"
    }
   ],
   "source": [
    "plt.pie(train.Sentiment.value_counts(),radius=1.6,\n",
    "        labels=train.Sentiment.value_counts().index,\n",
    "        autopct=lambda x:str(np.round(x,2))+\"%\",explode=(0,0,0,0.1,0.2))\n",
    "\n",
    "plt.legend()\n",
    "plt.title(\"\")"
   ]
  },
  {
   "cell_type": "markdown",
   "metadata": {},
   "source": [
    "### 1.Naive Way"
   ]
  },
  {
   "cell_type": "markdown",
   "metadata": {},
   "source": [
    "The naive way of doing this is to categorise all reviews with Ratings 3 and 4 as positive. And, all reviews with ratings 1 and 2 as negative. We will ignore all such reviews where the rating is 2 because intuitively if you think about it, 2 is neither positive nor negative. It's a neutral reviews."
   ]
  },
  {
   "cell_type": "markdown",
   "metadata": {},
   "source": [
    "Sentiment as positive or negative"
   ]
  },
  {
   "cell_type": "code",
   "execution_count": 13,
   "metadata": {},
   "outputs": [
    {
     "data": {
      "text/html": [
       "<div>\n",
       "<style scoped>\n",
       "    .dataframe tbody tr th:only-of-type {\n",
       "        vertical-align: middle;\n",
       "    }\n",
       "\n",
       "    .dataframe tbody tr th {\n",
       "        vertical-align: top;\n",
       "    }\n",
       "\n",
       "    .dataframe thead th {\n",
       "        text-align: right;\n",
       "    }\n",
       "</style>\n",
       "<table border=\"1\" class=\"dataframe\">\n",
       "  <thead>\n",
       "    <tr style=\"text-align: right;\">\n",
       "      <th></th>\n",
       "      <th>PhraseId</th>\n",
       "      <th>SentenceId</th>\n",
       "      <th>Phrase</th>\n",
       "      <th>Sentiment</th>\n",
       "      <th>SentimentPolarity</th>\n",
       "      <th>Class_Labels</th>\n",
       "    </tr>\n",
       "  </thead>\n",
       "  <tbody>\n",
       "    <tr>\n",
       "      <th>0</th>\n",
       "      <td>1</td>\n",
       "      <td>1</td>\n",
       "      <td>A series of escapades demonstrating the adage ...</td>\n",
       "      <td>1</td>\n",
       "      <td>Negative</td>\n",
       "      <td>0</td>\n",
       "    </tr>\n",
       "    <tr>\n",
       "      <th>1</th>\n",
       "      <td>2</td>\n",
       "      <td>1</td>\n",
       "      <td>A series of escapades demonstrating the adage ...</td>\n",
       "      <td>2</td>\n",
       "      <td>Negative</td>\n",
       "      <td>0</td>\n",
       "    </tr>\n",
       "    <tr>\n",
       "      <th>2</th>\n",
       "      <td>3</td>\n",
       "      <td>1</td>\n",
       "      <td>A series</td>\n",
       "      <td>2</td>\n",
       "      <td>Negative</td>\n",
       "      <td>0</td>\n",
       "    </tr>\n",
       "    <tr>\n",
       "      <th>3</th>\n",
       "      <td>4</td>\n",
       "      <td>1</td>\n",
       "      <td>A</td>\n",
       "      <td>2</td>\n",
       "      <td>Negative</td>\n",
       "      <td>0</td>\n",
       "    </tr>\n",
       "    <tr>\n",
       "      <th>4</th>\n",
       "      <td>5</td>\n",
       "      <td>1</td>\n",
       "      <td>series</td>\n",
       "      <td>2</td>\n",
       "      <td>Negative</td>\n",
       "      <td>0</td>\n",
       "    </tr>\n",
       "  </tbody>\n",
       "</table>\n",
       "</div>"
      ],
      "text/plain": [
       "   PhraseId  SentenceId                                             Phrase  \\\n",
       "0         1           1  A series of escapades demonstrating the adage ...   \n",
       "1         2           1  A series of escapades demonstrating the adage ...   \n",
       "2         3           1                                           A series   \n",
       "3         4           1                                                  A   \n",
       "4         5           1                                             series   \n",
       "\n",
       "   Sentiment SentimentPolarity  Class_Labels  \n",
       "0          1          Negative             0  \n",
       "1          2          Negative             0  \n",
       "2          2          Negative             0  \n",
       "3          2          Negative             0  \n",
       "4          2          Negative             0  "
      ]
     },
     "execution_count": 13,
     "metadata": {},
     "output_type": "execute_result"
    }
   ],
   "source": [
    "final_data=train\n",
    "final_data['SentimentPolarity'] = final_data['Sentiment'].apply(lambda x : 'Positive' if x > 2 else 'Negative')\n",
    "final_data['Class_Labels'] = final_data['SentimentPolarity'].apply(lambda x : 1 if x == 'Positive' else 0)\n",
    "final_data.head()"
   ]
  },
  {
   "cell_type": "code",
   "execution_count": 14,
   "metadata": {},
   "outputs": [
    {
     "data": {
      "text/plain": [
       "<AxesSubplot:title={'center':'Distribution Of Positive and Negative reviews'}>"
      ]
     },
     "execution_count": 14,
     "metadata": {},
     "output_type": "execute_result"
    },
    {
     "data": {
      "image/png": "[encoded data removed]",
      "text/plain": [
       "<Figure size 360x360 with 1 Axes>"
      ]
     },
     "metadata": {
      "needs_background": "light"
     },
     "output_type": "display_data"
    }
   ],
   "source": [
    "#Display distribution of Postive and Negative reviews in a bar graph\n",
    "final_data[\"Class_Labels\"].value_counts().plot(kind='bar',color=['green','red'],title='Distribution Of Positive and Negative reviews',figsize=(5,5))"
   ]
  },
  {
   "cell_type": "markdown",
   "metadata": {},
   "source": [
    "## [2]. Preprocessing "
   ]
  },
  {
   "cell_type": "markdown",
   "metadata": {},
   "source": [
    "### [2.1]. Preprocessing Review "
   ]
  },
  {
   "cell_type": "markdown",
   "metadata": {},
   "source": [
    "Our data requires some preprocessing before we go on further with analysis and making the prediction model."
   ]
  },
  {
   "cell_type": "markdown",
   "metadata": {},
   "source": [
    "Hence in the Preprocessing phase we do the following in the order below:-"
   ]
  },
  {
   "cell_type": "markdown",
   "metadata": {},
   "source": [
    "1. Begin by removing the html tags\n",
    "2. Remove any punctuations or limited set of special characters like , or . or # etc.\n",
    "3. Check if the word is made up of english letters and is not alpha-numeric\n",
    "4. Check to see if the length of the word is greater than 2 (as it was researched that there is no adjective in 2-letters)\n",
    "5. Convert the word to lowercase\n",
    "6. Remove Stopwords\n",
    "7. Finally Snowball Stemming the word (it was obsereved to be better than Porter Stemming)"
   ]
  },
  {
   "cell_type": "markdown",
   "metadata": {},
   "source": [
    "After which we collect the words used to describe positive and negative reviews"
   ]
  },
  {
   "cell_type": "code",
   "execution_count": 15,
   "metadata": {},
   "outputs": [
    {
     "name": "stdout",
     "output_type": "stream",
     "text": [
      "A series of escapades demonstrating the adage that what is good for the goose is also good for the gander , some of which occasionally amuses but none of which amounts to much of a story .\n",
      "Review Polarity: Negative\n",
      "=======================================================================================================================================================================================================================\n",
      "to avoid\n",
      "Review Polarity: Negative\n",
      "=======================================================================================================================================================================================================================\n",
      "convolutions\n",
      "Review Polarity: Negative\n",
      "=======================================================================================================================================================================================================================\n",
      "pointless extremes\n",
      "Review Polarity: Negative\n",
      "=======================================================================================================================================================================================================================\n",
      "Dignified CEO 's meet at a rustic retreat and pee against a tree .\n",
      "Review Polarity: Negative\n",
      "=======================================================================================================================================================================================================================\n"
     ]
    }
   ],
   "source": [
    "#Printing some random reviews.\n",
    "sent_1 = final_data['Phrase'].values[0]\n",
    "print(sent_1)\n",
    "print(\"Review Polarity: {}\".format(final_data['SentimentPolarity'].values[0]))\n",
    "print(\"=\"*215)\n",
    "\n",
    "sent_2 = final_data['Phrase'].values[1000]\n",
    "print(sent_2)\n",
    "print(\"Review Polarity: {}\".format(final_data['SentimentPolarity'].values[1000]))\n",
    "print(\"=\"*215)\n",
    "\n",
    "sent_3 = final_data['Phrase'].values[1500]\n",
    "print(sent_3)\n",
    "print(\"Review Polarity: {}\".format(final_data['SentimentPolarity'].values[1500]))\n",
    "print(\"=\"*215)\n",
    "\n",
    "sent_4 = final_data['Phrase'].values[4900]\n",
    "print(sent_4)\n",
    "print(\"Review Polarity: {}\".format(final_data['SentimentPolarity'].values[4900]))\n",
    "print(\"=\"*215)\n",
    "\n",
    "sent_5 = final_data['Phrase'].values[12566]\n",
    "print(sent_5)\n",
    "print(\"Review Polarity: {}\".format(final_data['SentimentPolarity'].values[12566]))\n",
    "print(\"=\"*215)\n"
   ]
  },
  {
   "cell_type": "code",
   "execution_count": 16,
   "metadata": {},
   "outputs": [
    {
     "name": "stdout",
     "output_type": "stream",
     "text": [
      "A series of escapades demonstrating the adage that what is good for the goose is also good for the gander , some of which occasionally amuses but none of which amounts to much of a story . \n",
      "\n",
      "=======================================================================================================================================================================================================================\n",
      "to avoid \n",
      "\n",
      "=======================================================================================================================================================================================================================\n",
      "convolutions \n",
      "\n",
      "=======================================================================================================================================================================================================================\n",
      "pointless extremes \n",
      "\n",
      "=======================================================================================================================================================================================================================\n",
      "Dignified CEO 's meet at a rustic retreat and pee against a tree . \n",
      "\n",
      "=======================================================================================================================================================================================================================\n"
     ]
    }
   ],
   "source": [
    "#Remove urls from text python: https://stackoverflow.com/a/40823105/4084039\n",
    "sent_1 = re.sub(r\"http\\S+\", \" \", sent_1)\n",
    "sent_2 = re.sub(r\"http\\S+\", \" \", sent_2)\n",
    "sent_3 = re.sub(r\"http\\S+\", \" \", sent_3)\n",
    "sent_4 = re.sub(r\"http\\S+\", \" \", sent_4)\n",
    "sent_5 = re.sub(r\"http\\S+\", \" \", sent_5)\n",
    "\n",
    "\n",
    "print(sent_1,\"\\n\")\n",
    "print(\"=\"*215)\n",
    "print(sent_2,\"\\n\")\n",
    "print(\"=\"*215)\n",
    "print(sent_3,\"\\n\")\n",
    "print(\"=\"*215)\n",
    "print(sent_4,\"\\n\")\n",
    "print(\"=\"*215)\n",
    "print(sent_5,\"\\n\")\n",
    "print(\"=\"*215)\n"
   ]
  },
  {
   "cell_type": "code",
   "execution_count": 17,
   "metadata": {},
   "outputs": [
    {
     "name": "stdout",
     "output_type": "stream",
     "text": [
      "A series of escapades demonstrating the adage that what is good for the goose is also good for the gander , some of which occasionally amuses but none of which amounts to much of a story .\n",
      "\n",
      "to avoid\n",
      "\n",
      "convolutions\n",
      "\n",
      "pointless extremes\n",
      "\n",
      "Dignified CEO 's meet at a rustic retreat and pee against a tree .\n",
      "\n"
     ]
    }
   ],
   "source": [
    "#Function to clean html tags from a sentence\n",
    "def removeHtml(sentence): \n",
    "    pattern = re.compile('<.*?>')\n",
    "    cleaned_text = re.sub(pattern,' ',sentence)\n",
    "    return cleaned_text\n",
    "\n",
    "\n",
    "print(removeHtml(sent_1) + \"\\n\")\n",
    "print(removeHtml(sent_2) + \"\\n\")\n",
    "print(removeHtml(sent_3) + \"\\n\")\n",
    "print(removeHtml(sent_4) + \"\\n\")\n",
    "print(removeHtml(sent_5) + \"\\n\")\n"
   ]
  },
  {
   "cell_type": "code",
   "execution_count": 18,
   "metadata": {},
   "outputs": [],
   "source": [
    "# https://stackoverflow.com/a/47091490/4084039\n",
    "# https://en.wikipedia.org/wiki/Wikipedia:List_of_English_contractions\n",
    "import re\n",
    "\n",
    "#Expand the reviews x is aninput string of any length. Convert all the words to lower case\n",
    "def decontracted(x):\n",
    "    x = str(x).lower()\n",
    "    x = x.replace(\",000,000\", \" m\").replace(\",000\", \" k\").replace(\"′\", \"'\").replace(\"’\", \"'\")\\\n",
    "                           .replace(\"won't\", \" will not\").replace(\"cannot\", \" can not\").replace(\"can't\", \" can not\")\\\n",
    "                           .replace(\"n't\", \" not\").replace(\"what's\", \" what is\").replace(\"it's\", \" it is\")\\\n",
    "                           .replace(\"'ve\", \" have\").replace(\"'m\", \" am\").replace(\"'re\", \" are\")\\\n",
    "                           .replace(\"he's\", \" he is\").replace(\"she's\", \" she is\").replace(\"'s\", \" own\")\\\n",
    "                           .replace(\"%\", \" percent \").replace(\"₹\", \" rupee \").replace(\"$\", \" dollar \")\\\n",
    "                           .replace(\"€\", \" euro \").replace(\"'ll\", \" will\").replace(\"how's\",\" how has\").replace(\"y'all\",\" you all\")\\\n",
    "                           .replace(\"o'clock\",\" of the clock\").replace(\"ne'er\",\" never\").replace(\"let's\",\" let us\")\\\n",
    "                           .replace(\"finna\",\" fixing to\").replace(\"gonna\",\" going to\").replace(\"gimme\",\" give me\").replace(\"gotta\",\" got to\").replace(\"'d\",\" would\")\\\n",
    "                           .replace(\"daresn't\",\" dare not\").replace(\"dasn't\",\" dare not\").replace(\"e'er\",\" ever\").replace(\"everyone's\",\" everyone is\")\\\n",
    "                           .replace(\"'cause'\",\" because\")\n",
    "    \n",
    "    x = re.sub(r\"([0-9]+)000000\", r\"\\1m\", x)\n",
    "    x = re.sub(r\"([0-9]+)000\", r\"\\1k\", x)\n",
    "    return x"
   ]
  },
  {
   "cell_type": "code",
   "execution_count": 19,
   "metadata": {},
   "outputs": [
    {
     "name": "stdout",
     "output_type": "stream",
     "text": [
      "A series of escapades demonstrating the adage that what is good for the goose is also good for the gander , some of which occasionally amuses but none of which amounts to much of a story .\n"
     ]
    }
   ],
   "source": [
    "#remove words with numbers python: https://stackoverflow.com/a/18082370/4084039\n",
    "'''\n",
    ">>> import re\n",
    ">>> s = \"ABCD abcd AB55 55CD A55D 5555\"\n",
    ">>> re.sub(\"\\S*\\d\\S*\", \"\", s).strip()\n",
    "\n",
    "'ABCD abcd'\n",
    ">>>'''\n",
    "\n",
    "sent_1 = re.sub(\"\\S*\\d\\S*\", \" \", sent_1).strip()\n",
    "print(sent_1)"
   ]
  },
  {
   "cell_type": "code",
   "execution_count": 20,
   "metadata": {},
   "outputs": [],
   "source": [
    "'''Data Cleaning Stage.'''\n",
    "#Data Cleaning Stage. Clean each review from the sampled Amazon Dataset\n",
    "\n",
    "''' pattern = re.compile('<.*?>') #Function to clean html tags from a sentence\n",
    "    cleaned_text = re.sub(pattern,' ',sentence)\n",
    "    return cleaned_text'''\n",
    "\n",
    "#Remove words with numbers python: https://stackoverflow.com/a/18082370/4084039\n",
    "def removeNumbers(sentence):\n",
    "    sentence = re.sub(\"\\S*\\d\\S*\", \" \", sentence).strip()\n",
    "    return (sentence)\n",
    "\n",
    "#Function to clean html tags from a sentence\n",
    "def removeHtml(sentence): \n",
    "    pattern = re.compile('<.*?>')\n",
    "    cleaned_text = re.sub(pattern,' ',sentence)\n",
    "    return cleaned_text\n",
    "\n",
    "#Remove URL from sentences.\n",
    "def removeURL(sentence):\n",
    "    text = re.sub(r\"http\\S+\", \" \", sentence)\n",
    "    sentence = re.sub(r\"www.\\S+\", \" \", text)\n",
    "    return (sentence)\n",
    "    \n",
    "#Function to keep only words containing letters A-Z and a-z. This will remove all punctuations, special characters etc. https://stackoverflow.com/a/5843547/4084039\n",
    "def removePunctuations(sentence):\n",
    "    cleaned_text  = re.sub('[^a-zA-Z]',' ',sentence)\n",
    "    return (cleaned_text)\n",
    "\n",
    "#https://stackoverflow.com/questions/37012948/regex-to-match-an-entire-word-that-contains-repeated-character\n",
    "#Remove words like 'zzzzzzzzzzzzzzzzzzzzzzz', 'testtting', 'grrrrrrreeeettttt' etc. Preserves words like 'looks', 'goods', 'soon' etc. We will remove all such words which has three consecutive repeating characters.\n",
    "def removePatterns(sentence): \n",
    "    cleaned_text  = re.sub(\"\\\\s*\\\\b(?=\\\\w*(\\\\w)\\\\1{2,})\\\\w*\\\\b\",' ',sentence)\n",
    "    return (cleaned_text)"
   ]
  },
  {
   "cell_type": "code",
   "execution_count": 21,
   "metadata": {},
   "outputs": [],
   "source": [
    "#Stemming and stopwords removal\n",
    "from nltk.stem.snowball import SnowballStemmer\n",
    "sno = SnowballStemmer(language='english')\n",
    "\n",
    "#Removing the word 'not' from stopwords\n",
    "default_stopwords = set(stopwords.words('english'))\n",
    "remove_not = set(['no', 'nor', 'not'])\n",
    "custom_stopwords = default_stopwords - remove_not"
   ]
  },
  {
   "cell_type": "code",
   "execution_count": 22,
   "metadata": {},
   "outputs": [
    {
     "name": "stderr",
     "output_type": "stream",
     "text": [
      "100%|████████████████████████████████████████████████████████████████████████| 156060/156060 [00:21<00:00, 7316.70it/s]\n",
      "100%|████████████████████████████████████████████████████████████████████████| 10221/10221 [00:00<00:00, 929914.34it/s]\n"
     ]
    },
    {
     "data": {
      "text/plain": [
       "Text(0, 0.5, 'Number of Words')"
      ]
     },
     "execution_count": 22,
     "metadata": {},
     "output_type": "execute_result"
    },
    {
     "data": {
      "image/png": "[encoded data removed]",
      "text/plain": [
       "<Figure size 1440x720 with 1 Axes>"
      ]
     },
     "metadata": {
      "needs_background": "light"
     },
     "output_type": "display_data"
    }
   ],
   "source": [
    "#We will check the distribution of stemmed word lengths across the whole review dataset to understand what is the length of the maximum number of words we will consider for the word to be relevant.\n",
    "#In other words we will keep only those words which has a length less than that of a speicific length (we will obtain this specific length from the histogram).\n",
    "from tqdm import tqdm\n",
    "total_words = []\n",
    "\n",
    "for review in tqdm(final_data['Phrase'].values):\n",
    "    filtered_sentence=[]\n",
    "    review = decontracted(review)\n",
    "    review = removeNumbers(review)\n",
    "    review = removeHtml(review)\n",
    "    review = removeURL(review)\n",
    "    review = removePunctuations(review)\n",
    "    review = removePatterns(review)\n",
    "    \n",
    "    for cleaned_words in review.split():   \n",
    "        if((cleaned_words not in custom_stopwords)):          \n",
    "            stemed_word=(sno.stem(cleaned_words.lower()))\n",
    "            total_words.append(stemed_word)\n",
    "\n",
    "total_words = list(set(total_words)) #Get list of unique words.\n",
    "\n",
    "#A list to hold the length of each words used in all the reviews used across the whole dataset.\n",
    "dist = []\n",
    "for i in tqdm(total_words):\n",
    "    length = len(i)\n",
    "    dist.append(length)\n",
    "\n",
    "# matplotlib histogram to see the distribution of the length of words\n",
    "plt.figure(figsize=(20,10))\n",
    "plt.hist(dist, color = 'red', edgecolor = 'blue', bins =90)\n",
    "plt.title('Distribution of the length of Words across all reviews.')\n",
    "plt.xlabel('Word Lengths')\n",
    "plt.ylabel('Number of Words')"
   ]
  },
  {
   "cell_type": "markdown",
   "metadata": {},
   "source": [
    "### Conclusion from the above histogram: "
   ]
  },
  {
   "cell_type": "markdown",
   "metadata": {},
   "source": [
    "We can see that most stemmed words present in the reviews has lengths between 3 and 10. Words which has length greater than 13 are very very very few as compared to other words. So we will discard these words from the reviews when we process them. It means we will consider only those words whose length is greater than 2 and less than 13."
   ]
  },
  {
   "cell_type": "code",
   "execution_count": 23,
   "metadata": {},
   "outputs": [
    {
     "name": "stderr",
     "output_type": "stream",
     "text": [
      "100%|████████████████████████████████████████████████████████████████████████| 156060/156060 [00:31<00:00, 4989.25it/s]\n"
     ]
    },
    {
     "name": "stdout",
     "output_type": "stream",
     "text": [
      "The length of the data corpus is : 156060\n"
     ]
    }
   ],
   "source": [
    "# Combining all the above data cleaning methodologies as discussed above.\n",
    "\n",
    "#Processing review Texts\n",
    "preprocessed_reviews = [] #Store all the processed reviews\n",
    "all_positive_words=[] #Store all the relevant words from Positive reviews\n",
    "all_negative_words=[] #Store all the relevant words from Negative reviews\n",
    " \n",
    "count=0     #Iterator to iterate through the list of reviews and check if a given review belongs to the positive or negative class\n",
    "string=' '    \n",
    "stemed_word=' '\n",
    "\n",
    "for review in tqdm(final_data['Phrase'].values):\n",
    "    filtered_sentence=[]\n",
    "    review = decontracted(review)\n",
    "    review = removeNumbers(review)\n",
    "    review = removeHtml(review)\n",
    "    review = removeURL(review)\n",
    "    review = removePunctuations(review)\n",
    "    review = removePatterns(review)\n",
    "    \n",
    "    for cleaned_words in review.split():   \n",
    "        if((cleaned_words not in custom_stopwords) and (2<len(cleaned_words)<16)):\n",
    "            stemed_word=(sno.stem(cleaned_words.lower()))                                   \n",
    "            filtered_sentence.append(stemed_word)\n",
    "            if (final_data['SentimentPolarity'].values)[count] == 'Positive': \n",
    "                all_positive_words.append(stemed_word) #List of all the relevant words from Positive reviews\n",
    "            if(final_data['SentimentPolarity'].values)[count] == 'Negative':\n",
    "                all_negative_words.append(stemed_word) #List of all the relevant words from Negative reviews\n",
    "        else:\n",
    "            continue\n",
    "    review = \" \".join(filtered_sentence) #Final string of cleaned words    \n",
    "    preprocessed_reviews.append(review.strip()) #Data corpus contaning cleaned reviews from the whole dataset\n",
    "    count+=1\n",
    "    \n",
    "#Save the list of positive words and negative words\n",
    "import pickle\n",
    "with open('all_positive_words.pkl', 'wb') as file:\n",
    "    pickle.dump(all_positive_words, file)\n",
    "    \n",
    "with open('all_negative_words.pkl', 'wb') as file:\n",
    "    pickle.dump(all_negative_words, file)\n",
    "    \n",
    "#Adding a column of CleanedText to the table final which stores the data_corpus after pre-processing the reviews \n",
    "final_data['CleanedText']=preprocessed_reviews \n",
    "    \n",
    "print(\"The length of the data corpus is : {}\".format(len(preprocessed_reviews)))\n",
    "\n",
    "#Adding a column of CleanedText to the table final which stores the data_corpus after pre-processing the reviews \n",
    "final_data['CleanedText']=preprocessed_reviews"
   ]
  },
  {
   "cell_type": "markdown",
   "metadata": {},
   "source": [
    "## [4]. Featurization "
   ]
  },
  {
   "cell_type": "code",
   "execution_count": 24,
   "metadata": {},
   "outputs": [
    {
     "data": {
      "text/html": [
       "<div>\n",
       "<style scoped>\n",
       "    .dataframe tbody tr th:only-of-type {\n",
       "        vertical-align: middle;\n",
       "    }\n",
       "\n",
       "    .dataframe tbody tr th {\n",
       "        vertical-align: top;\n",
       "    }\n",
       "\n",
       "    .dataframe thead th {\n",
       "        text-align: right;\n",
       "    }\n",
       "</style>\n",
       "<table border=\"1\" class=\"dataframe\">\n",
       "  <thead>\n",
       "    <tr style=\"text-align: right;\">\n",
       "      <th></th>\n",
       "      <th>PhraseId</th>\n",
       "      <th>SentenceId</th>\n",
       "      <th>Phrase</th>\n",
       "      <th>Sentiment</th>\n",
       "      <th>SentimentPolarity</th>\n",
       "      <th>Class_Labels</th>\n",
       "      <th>CleanedText</th>\n",
       "    </tr>\n",
       "  </thead>\n",
       "  <tbody>\n",
       "    <tr>\n",
       "      <th>0</th>\n",
       "      <td>1</td>\n",
       "      <td>1</td>\n",
       "      <td>A series of escapades demonstrating the adage ...</td>\n",
       "      <td>1</td>\n",
       "      <td>Negative</td>\n",
       "      <td>0</td>\n",
       "      <td>seri escapad demonstr adag good goos also good...</td>\n",
       "    </tr>\n",
       "    <tr>\n",
       "      <th>1</th>\n",
       "      <td>2</td>\n",
       "      <td>1</td>\n",
       "      <td>A series of escapades demonstrating the adage ...</td>\n",
       "      <td>2</td>\n",
       "      <td>Negative</td>\n",
       "      <td>0</td>\n",
       "      <td>seri escapad demonstr adag good goos</td>\n",
       "    </tr>\n",
       "    <tr>\n",
       "      <th>2</th>\n",
       "      <td>3</td>\n",
       "      <td>1</td>\n",
       "      <td>A series</td>\n",
       "      <td>2</td>\n",
       "      <td>Negative</td>\n",
       "      <td>0</td>\n",
       "      <td>seri</td>\n",
       "    </tr>\n",
       "    <tr>\n",
       "      <th>3</th>\n",
       "      <td>4</td>\n",
       "      <td>1</td>\n",
       "      <td>A</td>\n",
       "      <td>2</td>\n",
       "      <td>Negative</td>\n",
       "      <td>0</td>\n",
       "      <td></td>\n",
       "    </tr>\n",
       "    <tr>\n",
       "      <th>4</th>\n",
       "      <td>5</td>\n",
       "      <td>1</td>\n",
       "      <td>series</td>\n",
       "      <td>2</td>\n",
       "      <td>Negative</td>\n",
       "      <td>0</td>\n",
       "      <td>seri</td>\n",
       "    </tr>\n",
       "  </tbody>\n",
       "</table>\n",
       "</div>"
      ],
      "text/plain": [
       "   PhraseId  SentenceId                                             Phrase  \\\n",
       "0         1           1  A series of escapades demonstrating the adage ...   \n",
       "1         2           1  A series of escapades demonstrating the adage ...   \n",
       "2         3           1                                           A series   \n",
       "3         4           1                                                  A   \n",
       "4         5           1                                             series   \n",
       "\n",
       "   Sentiment SentimentPolarity  Class_Labels  \\\n",
       "0          1          Negative             0   \n",
       "1          2          Negative             0   \n",
       "2          2          Negative             0   \n",
       "3          2          Negative             0   \n",
       "4          2          Negative             0   \n",
       "\n",
       "                                         CleanedText  \n",
       "0  seri escapad demonstr adag good goos also good...  \n",
       "1               seri escapad demonstr adag good goos  \n",
       "2                                               seri  \n",
       "3                                                     \n",
       "4                                               seri  "
      ]
     },
     "execution_count": 24,
     "metadata": {},
     "output_type": "execute_result"
    }
   ],
   "source": [
    "processed_db=final_data\n",
    "#Split the data \n",
    "X_train = processed_db['CleanedText'].iloc[0:93635,] ; y_train = processed_db['Class_Labels'].iloc[0:93635,]\n",
    "X_test = processed_db['CleanedText'].iloc[93635:112362,] ; y_test = processed_db['Class_Labels'].iloc[93635:112362,]\n",
    "X_calib = processed_db['CleanedText'].iloc[112362:156060,] ; y_calib = processed_db['Class_Labels'].iloc[112362:156060,]\n",
    "\n",
    "processed_db.head()"
   ]
  },
  {
   "cell_type": "code",
   "execution_count": 25,
   "metadata": {},
   "outputs": [
    {
     "data": {
      "text/plain": [
       "<AxesSubplot:title={'center':'Distribution Of Positive and Negative reviews in 150K datapoints.'}>"
      ]
     },
     "execution_count": 25,
     "metadata": {},
     "output_type": "execute_result"
    },
    {
     "data": {
      "image/png": "[encoded data removed]",
      "text/plain": [
       "<Figure size 360x360 with 1 Axes>"
      ]
     },
     "metadata": {
      "needs_background": "light"
     },
     "output_type": "display_data"
    }
   ],
   "source": [
    "#Display distribution of Postive and Negative reviews.\n",
    "processed_db[\"SentimentPolarity\"].value_counts().plot(kind='bar',color=['green','red'],title='Distribution Of Positive and Negative reviews in 150K datapoints.',figsize=(5,5))"
   ]
  },
  {
   "cell_type": "markdown",
   "metadata": {},
   "source": [
    "### [4.1] BAG OF WORDS "
   ]
  },
  {
   "cell_type": "markdown",
   "metadata": {},
   "source": [
    "A bag-of-words model, or BoW for short, is a way of extracting features from text for use in modeling, such as with machine learning algorithms. The approach is very simple and flexible, and can be used in a myriad of ways for extracting features from documents. Suppose we have N reviews in our dataset and we want to convert the words in our reviews to vectors. We can use BOW as a method to do this. What it does is that for each unique word in the data corpus, it creates a dimension. Then it counts how many number of times a word is present in a review. And then this number is placed under that word for a corresponding review. We will get a Sparse Matrix representation for all the worods inthe review."
   ]
  },
  {
   "cell_type": "code",
   "execution_count": 28,
   "metadata": {},
   "outputs": [
    {
     "name": "stdout",
     "output_type": "stream",
     "text": [
      "Some feature names  ['affabl', 'affair', 'affect', 'affection', 'affirm', 'affleck', 'afflict', 'affluent', 'afford', 'aficionado']\n",
      "=======================================================================================================================================================================================================================\n",
      "\n",
      "Creating the BOW vectors using the cleaned corpus...\n",
      "\n",
      "The type of count vectorizer  <class 'scipy.sparse.csr.csr_matrix'>\n",
      "The shape of our train BOW vectorizer  (93635, 7961)\n",
      "The shape of our test BOW vectorizer  (18727, 7961)\n",
      "The number of unique words  7961\n"
     ]
    }
   ],
   "source": [
    "#Initializing the BOW constructor\n",
    "cv_object = CountVectorizer(dtype='float').fit(X_train)\n",
    "\n",
    "#Print names of some random features\n",
    "print(\"Some feature names \", cv_object.get_feature_names()[100:110])\n",
    "print('='*215)\n",
    "\n",
    "#Creating the BOW matrix from cleaned data corpus. Only 'not', 'no', 'nor' is preserved from stopwords. This is done for both train and test Vectors.\n",
    "print(\"\\nCreating the BOW vectors using the cleaned corpus...\")\n",
    "X_train_vectors = cv_object.transform(X_train)\n",
    "X_test_vectors = cv_object.transform(X_test)\n",
    "X_calib_vectors = cv_object.transform(X_calib)\n",
    "\n",
    "print(\"\\nThe type of count vectorizer \",type(X_train_vectors))\n",
    "print(\"The shape of our train BOW vectorizer \",X_train_vectors.get_shape())\n",
    "print(\"The shape of our test BOW vectorizer \",X_test_vectors.get_shape())\n",
    "print(\"The number of unique words \", X_train_vectors.get_shape()[1])\n",
    "\n",
    "#Save the bow train and test matrices for later use. We will need this later when we apply our models on them\n",
    "import pickle\n",
    "with open('X_train_BOW.pkl', 'wb') as file:\n",
    "    pickle.dump(X_train_vectors, file)\n",
    "\n",
    "with open('y_train_BOW.pkl', 'wb') as file:\n",
    "    pickle.dump(y_train, file)\n",
    "    \n",
    "with open('X_test_BOW.pkl', 'wb') as file:\n",
    "    pickle.dump(X_test_vectors, file)\n",
    "    \n",
    "with open('y_test_BOW.pkl', 'wb') as file:\n",
    "    pickle.dump(y_test, file)\n",
    "    \n",
    "with open('X_calib_BOW.pkl', 'wb') as file:\n",
    "    pickle.dump(X_calib_vectors, file)\n",
    "    \n",
    "with open('y_calib_BOW.pkl', 'wb') as file:\n",
    "    pickle.dump(y_calib, file)"
   ]
  },
  {
   "cell_type": "markdown",
   "metadata": {},
   "source": [
    "### [4.2] Bi-Grams and n-Grams "
   ]
  },
  {
   "cell_type": "code",
   "execution_count": 29,
   "metadata": {},
   "outputs": [
    {
     "name": "stdout",
     "output_type": "stream",
     "text": [
      "Some feature names  ['abus film', 'abus inner', 'abus piti', 'abus veer', 'abysm', 'abysm hannib', 'abyss', 'academ', 'academ lower', 'academi']\n",
      "=======================================================================================================================================================================================================================\n",
      "\n",
      "Creating the Bi-Gram vectors using the cleaned corpus...\n",
      "\n",
      "The type of count vectorizer  <class 'scipy.sparse.csr.csr_matrix'>\n",
      "The shape of our train BiGram vectorizer  (93635, 45522)\n",
      "The shape of our test BiGram vectorizer  (18727, 45522)\n",
      "The number of unique words  45522\n"
     ]
    }
   ],
   "source": [
    "#bi-gram, tri-gram and n-gram\n",
    "\n",
    "#removing stop words like \"not\" should be avoided before building n-grams\n",
    "# count_vect = CountVectorizer(ngram_range=(1,2))\n",
    "# please do read the CountVectorizer documentation http://scikit-learn.org/stable/modules/generated/sklearn.feature_extraction.text.CountVectorizer.html\n",
    "\n",
    "#Initializing the Bi-Gram constructor\n",
    "cv_object = CountVectorizer(ngram_range=(1,2),dtype='float')             \n",
    "cv_object.fit(X_train)                                                                                  \n",
    "#Print names of some random features\n",
    "print(\"Some feature names \", cv_object.get_feature_names()[100:110])\n",
    "print('='*215)\n",
    "\n",
    "#Creating the Bi-Gram matrix from cleaned data corpus. Only 'not', 'no', 'nor' is preserved from stopwords. This is done for both train and test Vectors.\n",
    "print(\"\\nCreating the Bi-Gram vectors using the cleaned corpus...\")\n",
    "X_train_vectors = cv_object.transform(X_train)\n",
    "X_test_vectors = cv_object.transform(X_test)\n",
    "\n",
    "print(\"\\nThe type of count vectorizer \",type(X_train_vectors))\n",
    "print(\"The shape of our train BiGram vectorizer \",X_train_vectors.get_shape())\n",
    "print(\"The shape of our test BiGram vectorizer \",X_test_vectors.get_shape())\n",
    "print(\"The number of unique words \", X_train_vectors.get_shape()[1])\n",
    "\n",
    "#Save the bi grams train and test matrices for later use. We will need this later when we apply our models on them\n",
    "import pickle\n",
    "with open('X_train_BiGrm.pkl', 'wb') as file:\n",
    "    pickle.dump(X_train_vectors, file)\n",
    "\n",
    "with open('y_train_BiGrm.pkl', 'wb') as file:\n",
    "    pickle.dump(y_train, file)\n",
    "    \n",
    "with open('X_test_BiGrm.pkl', 'wb') as file:\n",
    "    pickle.dump(X_test_vectors, file)\n",
    "    \n",
    "with open('y_test_BiGrm.pkl', 'wb') as file:\n",
    "    pickle.dump(y_test, file)\n",
    "    \n",
    "with open('X_calib_BiGrm.pkl', 'wb') as file:\n",
    "    pickle.dump(X_calib_vectors, file)\n",
    "    \n",
    "with open('y_calib_BiGrm.pkl', 'wb') as file:\n",
    "    pickle.dump(y_calib, file)"
   ]
  },
  {
   "cell_type": "markdown",
   "metadata": {},
   "source": [
    "### [4.3] TF-IDF "
   ]
  },
  {
   "cell_type": "markdown",
   "metadata": {},
   "source": [
    "In information retrieval, tf–idf or TFIDF, short for term frequency–inverse document frequency, is a numerical statistic that is intended to reflect how important a word is to a document in a collection or corpus."
   ]
  },
  {
   "cell_type": "markdown",
   "metadata": {},
   "source": [
    "Let's assume we have data corpus D, which contains N reviews {r1,r2,r3,r4...rN}. Let's say our review r1 contains the following words {w1,w2,w3,w1,w9,w6,w7,w9,w9}."
   ]
  },
  {
   "cell_type": "markdown",
   "metadata": {},
   "source": [
    "TF or Term Frequency for a word is basically the number of times a word occurs in a review divided by the total number of words present in that same review. For example, in the text corpus that we have considered in the above example, the TF for word w1 is (2/9) and for word w9 is (1/3). Intuitively, higher the occurence of a word in a text is, greater will be its TF value. TF values lies between 0 and 1."
   ]
  },
  {
   "cell_type": "markdown",
   "metadata": {},
   "source": [
    "IDF or Inverse Document Frequency for a word is given by the formula log(N/n), where 'N' is equal to the total number of reviews in the corpus 'D' and 'n' refers to the number of reviews in 'D' which contains that specific word. Intuitively, IDF will be higher for words which occur rarely and will be less for words which occurs more frequently. IDF values are more than 0."
   ]
  },
  {
   "cell_type": "markdown",
   "metadata": {},
   "source": [
    "So for each word in each review we will consider the product of (TF x IDF), and represent it in a d dimensional vector."
   ]
  },
  {
   "cell_type": "markdown",
   "metadata": {},
   "source": [
    "TF-IDF basically doesn't consider the semantic meaning of words. But what is does is that it gives more importance to words which occurs less frequently in the whole data corpus and also gives much importance to the most frequent words that occurs in each review."
   ]
  },
  {
   "cell_type": "code",
   "execution_count": 30,
   "metadata": {},
   "outputs": [
    {
     "name": "stdout",
     "output_type": "stream",
     "text": [
      "Some feature names  ['abus film', 'abus inner', 'abus piti', 'abus veer', 'abysm', 'abysm hannib', 'abyss', 'academ', 'academ lower', 'academi']\n",
      "=======================================================================================================================================================================================================================\n",
      "\n",
      "Creating the TF-IDF vectors using the cleaned corpus...\n",
      "\n",
      "The type of count vectorizer  <class 'scipy.sparse.csr.csr_matrix'>\n",
      "The shape of our train BiGram vectorizer  (93635, 45522)\n",
      "The shape of our test BiGram vectorizer  (18727, 45522)\n",
      "The number of unique words including both unigrams and bigrams.  45522\n"
     ]
    }
   ],
   "source": [
    "#Initializing the TF-IDF constructor\n",
    "tf_idf_obj = TfidfVectorizer(ngram_range=(1,2), dtype='float').fit(X_train) \n",
    "                                                                                                           \n",
    "#Print names of some random features\n",
    "print(\"Some feature names \", tf_idf_obj.get_feature_names()[100:110])\n",
    "print('='*215)\n",
    "\n",
    "#Creating the TF-IDF matrix from cleaned data corpus. Only 'not', 'no', 'nor' is preserved from stopwords. This is done for both train and test Vectors.\n",
    "print(\"\\nCreating the TF-IDF vectors using the cleaned corpus...\")\n",
    "X_train_vectors = tf_idf_obj.transform(X_train)\n",
    "X_test_vectors = tf_idf_obj.transform(X_test)\n",
    "X_calib_vectors = tf_idf_obj.transform(X_calib)\n",
    "\n",
    "print(\"\\nThe type of count vectorizer \",type(X_train_vectors))\n",
    "print(\"The shape of our train BiGram vectorizer \",X_train_vectors.get_shape())\n",
    "print(\"The shape of our test BiGram vectorizer \",X_test_vectors.get_shape())\n",
    "print(\"The number of unique words including both unigrams and bigrams. \", X_train_vectors.get_shape()[1])\n",
    "\n",
    "#Save the bow train and test matrices for later use. We will need this later when we apply our models on them\n",
    "import pickle\n",
    "with open('X_train_TFIDF.pkl', 'wb') as file:\n",
    "    pickle.dump(X_train_vectors, file)\n",
    "    \n",
    "with open('X_test_TFIDF.pkl', 'wb') as file:\n",
    "    pickle.dump(X_test_vectors, file)\n",
    "    \n",
    "with open('y_train_TFIDF.pkl', 'wb') as file:\n",
    "    pickle.dump(y_train, file)\n",
    "    \n",
    "with open('y_test_TFIDF.pkl', 'wb') as file:\n",
    "    pickle.dump(y_test, file)\n",
    "    \n",
    "with open('X_calib_TFIDF.pkl', 'wb') as file:\n",
    "    pickle.dump(X_calib_vectors, file)\n",
    "    \n",
    "with open('y_calib_TFIDF.pkl', 'wb') as file:\n",
    "    pickle.dump(y_calib, file)"
   ]
  },
  {
   "cell_type": "markdown",
   "metadata": {},
   "source": [
    "### [4.4.1] Avg W2V "
   ]
  },
  {
   "cell_type": "markdown",
   "metadata": {},
   "source": [
    "In this model we convert each word present in a review to vectors. For each sentence we will compute the average word to vec representation. Let's look at the below demo example."
   ]
  },
  {
   "cell_type": "markdown",
   "metadata": {},
   "source": [
    "Suppose we have N words in a sentence {w1,w2,w3,w4,w5,w6 ... , wN}. We will convert each word to a vector, sum them up and divide by the total number of words (N) present in that particular sentence. So our final vector will look like (1/N) * [word2vec(w1) + word2vec(w2) + word2vec(w3) .... + word2vec(wN)]"
   ]
  },
  {
   "cell_type": "code",
   "execution_count": 31,
   "metadata": {},
   "outputs": [
    {
     "name": "stdout",
     "output_type": "stream",
     "text": [
      "The size of the Word2Vec text corpus :  93635\n"
     ]
    },
    {
     "name": "stderr",
     "output_type": "stream",
     "text": [
      "100%|██████████████████████████████████████████████████████████████████████████| 93635/93635 [00:17<00:00, 5331.27it/s]\n",
      "100%|██████████████████████████████████████████████████████████████████████████| 18727/18727 [00:04<00:00, 4088.33it/s]\n",
      "100%|██████████████████████████████████████████████████████████████████████████| 43698/43698 [00:10<00:00, 4032.06it/s]\n"
     ]
    },
    {
     "name": "stdout",
     "output_type": "stream",
     "text": [
      "The shape of our Avg Word2Vec train vectorizer  (93635, 50)\n",
      "The shape of our Avg Word2Vec test vectorizer  (18727, 50)\n",
      "The shape of our Avg Word2Vec calibration vectorizer  (43698, 50)\n"
     ]
    }
   ],
   "source": [
    "from gensim import models\n",
    "from gensim.models import Word2Vec, KeyedVectors\n",
    "#Build a Word2Vec model on train data and use this to vectorize the test and cv data.\n",
    "word2vec_corpus=[]\n",
    "for sentence in X_train:\n",
    "    word2vec_corpus.append(sentence.split()) #Returns a list of words for each sentence for all the reviews\n",
    "print(\"The size of the Word2Vec text corpus : \",len(word2vec_corpus))\n",
    "\n",
    "word2vec_model=Word2Vec(sentences=word2vec_corpus, size=50, min_count=5, workers=4) \n",
    "word2vec_words = list(word2vec_model.wv.vocab)                                       \n",
    "\n",
    "#This method returns the Average Word2Vec vectors for all reviews in a given dataset\n",
    "def vectorize_w2v(dataset, word2vec_model, word2vec_words):\n",
    "    word2vec_corpus=[]\n",
    "    for sentence in dataset:\n",
    "        word2vec_corpus.append(sentence.split()) \n",
    "    \n",
    "    # Creating average Word2Vec model by computing the average word2vec for each review.\n",
    "    sent_vectors = []; #The average word2vec for each sentence/review will be stored in this list\n",
    "    for sentence in tqdm(word2vec_corpus): #For each review\n",
    "        sent_vec = np.zeros(50) #200 dimensional array, where all elements are zero. This is used to add word vectors and find the averages at each iteration.\n",
    "        count_words =0; #This will store the count of the words with a valid vector in each review text\n",
    "        for word in sentence: #For each word in a given review.\n",
    "            if word in word2vec_words:\n",
    "                word_vectors = word2vec_model.wv[word] #Creating a vector(numpy array of 100 dimensions) for each word.\n",
    "                sent_vec += word_vectors\n",
    "                count_words += 1\n",
    "        if count_words != 0:\n",
    "            sent_vec /= count_words\n",
    "        sent_vectors.append(sent_vec)\n",
    "    #print(\"\\nThe length of the sentence vectors :\",len(sent_vectors))\n",
    "    #print(\"\\nSize of each vector : \",len(sent_vectors[0]))\n",
    "    sent_vectors = np.array(sent_vectors)\n",
    "    return sent_vectors\n",
    "\n",
    "\n",
    "X_train_vectors = vectorize_w2v(X_train, word2vec_model, word2vec_words)\n",
    "X_test_vectors = vectorize_w2v(X_test, word2vec_model, word2vec_words)\n",
    "X_calib_vectors = vectorize_w2v(X_calib, word2vec_model, word2vec_words)\n",
    "\n",
    "\n",
    "print(\"The shape of our Avg Word2Vec train vectorizer \",X_train_vectors.shape)\n",
    "print(\"The shape of our Avg Word2Vec test vectorizer \",X_test_vectors.shape)\n",
    "print(\"The shape of our Avg Word2Vec calibration vectorizer \",X_calib_vectors.shape)\n",
    "\n",
    "#Save the bow train and test matrices for later use. We will need this later when we apply our models on them\n",
    "import pickle\n",
    "with open('X_train_W2V.pkl', 'wb') as file:\n",
    "    pickle.dump(X_train_vectors, file)\n",
    "    \n",
    "with open('X_test_W2V.pkl', 'wb') as file:\n",
    "    pickle.dump(X_test_vectors, file)\n",
    "    \n",
    "with open('y_train_W2V.pkl', 'wb') as file:\n",
    "    pickle.dump(y_train, file)\n",
    "    \n",
    "with open('y_test_W2V.pkl', 'wb') as file:\n",
    "    pickle.dump(y_test, file)\n",
    "\n",
    "with open('X_calib_W2V.pkl', 'wb') as file:\n",
    "    pickle.dump(X_calib_vectors, file)\n",
    "    \n",
    "with open('y_calib_W2V.pkl', 'wb') as file:\n",
    "    pickle.dump(y_calib, file)"
   ]
  },
  {
   "cell_type": "markdown",
   "metadata": {},
   "source": [
    "### [4.4.3] TFIDF weighted W2V"
   ]
  },
  {
   "cell_type": "markdown",
   "metadata": {},
   "source": [
    "In this model we convert each word present in a review to vectors. For each sentence we will compute the tf-idf average word to vec representation. Let's look at the below demo example."
   ]
  },
  {
   "cell_type": "markdown",
   "metadata": {},
   "source": [
    "Suppose we have N words in a sentence {w1,w2,w3,w4,w5,w6 ... , wN}. We will compute the tf-idf for each word in a review for all reviews. Lets say the corresponding tf-idfs are {t1,t2,t3,t4,t5,t6......tN}. We will convert each word to a vector, sum them up and divide by the summation of tf-idf vectors for all words present in that particular sentence. So our final vector will look like [1/(t1+t2+t3+t4+t5+t6+ ..... +tN)] * [word2vec(w1) + word2vec(w2) + word2vec(w3) .... + word2vec(wN)]"
   ]
  },
  {
   "cell_type": "code",
   "execution_count": 32,
   "metadata": {},
   "outputs": [
    {
     "name": "stderr",
     "output_type": "stream",
     "text": [
      "100%|██████████████████████████████████████████████████████████████████████████| 93635/93635 [00:59<00:00, 1572.24it/s]\n",
      "100%|██████████████████████████████████████████████████████████████████████████| 18727/18727 [00:11<00:00, 1621.74it/s]\n",
      "100%|██████████████████████████████████████████████████████████████████████████| 43698/43698 [00:28<00:00, 1552.88it/s]\n"
     ]
    },
    {
     "name": "stdout",
     "output_type": "stream",
     "text": [
      "The shape of our TF-IDF Avg Word2Vec train vectorizer  (93635, 50)\n",
      "The shape of our TF-IDF Avg Word2Vec test vectorizer  (18727, 50)\n",
      "The shape of our TF-IDF Avg Word2Vec calibration vectorizer  (43698, 50)\n"
     ]
    }
   ],
   "source": [
    "#Build a word2vec model using the train data and use this model to vectorize test and cv data.\n",
    "#word2vec_corpus will store the list of words for each review.\n",
    "word2vec_corpus=[]\n",
    "for sentence in X_train:\n",
    "    word2vec_corpus.append(sentence.split())\n",
    "\n",
    "#min_count = 5 considers only those words which occurs atleast 5 times\n",
    "word2vec_model=Word2Vec(sentences=word2vec_corpus, size=50, min_count=5, workers=4)\n",
    "word2vec_words = list(word2vec_model.wv.vocab)\n",
    "\n",
    "#Initializing the TF-IDF contructor with review texts. HTML tags and punctuations are removed. Stopwords are preserved.\n",
    "tf_idf_object = TfidfVectorizer(ngram_range=(1,1)).fit(X_train)\n",
    "\n",
    "#This method returns the Average Word2Vec vectors for all reviews in a given dataset\n",
    "def vectorize_tfidf_w2v(dataset, tf_idf_object, word2vec_model, word2vec_words):\n",
    "\n",
    "    #word2vec_corpus will store the list of words for each review.\n",
    "    word2vec_corpus=[]\n",
    "    for sentence in dataset:\n",
    "        word2vec_corpus.append(sentence.split())\n",
    "\n",
    "    #Use the earlier TF-IDF object to vectorize test and cv data.\n",
    "    tf_idf_matrix = tf_idf_object.transform(dataset)\n",
    "    tfidf_features = tf_idf_object.get_feature_names() \n",
    "    \n",
    "    # We are building a dictionary with words as a key, and the idfs as value\n",
    "    dictionary = dict(zip(tf_idf_object.get_feature_names(), list(tf_idf_object.idf_)))\n",
    "\n",
    "    #Algorithm for finding the TF-IDF weighted average word2vec vectors.\n",
    "    tfidf_sent_vectors = []; #The tfidf-w2v for each sentence/review will stored in this list\n",
    "    row=0;\n",
    "    for sentence in tqdm(word2vec_corpus): #For each review/sentence \n",
    "        sent_vec = np.zeros(50) #200 dimensional array, where all elements are zero. This is used to add word vectors and find the averages at each iteration.\n",
    "        weight_sum = 0; #This will store the count of the words with a valid vector in each review text.\n",
    "        for word in sentence: #For each word in a review/sentence\n",
    "            if((word in word2vec_words) and (word in tfidf_features)):\n",
    "                word_vectors = word2vec_model.wv[word]\n",
    "                tf_idf = dictionary[word]*(sentence.count(word)/len(sentence)) #tf_idf = tf_idf_matrix[row, tfidf_features.index(word)] #tf_idfidf of a word in a sentence/review       \n",
    "                sent_vec += (word_vectors * tf_idf)                            #dictionary[word] = idf value of word in whole courpus  # sent.count(word) = tf valeus of word in this review                          \n",
    "                weight_sum += tf_idf\n",
    "        if weight_sum != 0:\n",
    "            sent_vec /= weight_sum\n",
    "        tfidf_sent_vectors.append(sent_vec)\n",
    "        row += 1\n",
    "\n",
    "    tfidf_sent_vectors = np.array(tfidf_sent_vectors)\n",
    "    return tfidf_sent_vectors\n",
    "\n",
    "#Converting the words to word vector representation.\n",
    "X_train_vectors = vectorize_tfidf_w2v(X_train, tf_idf_object, word2vec_model, word2vec_words)\n",
    "X_test_vectors = vectorize_tfidf_w2v(X_test, tf_idf_object, word2vec_model, word2vec_words)\n",
    "X_calib_vectors = vectorize_tfidf_w2v(X_calib, tf_idf_object, word2vec_model, word2vec_words)\n",
    "\n",
    "print(\"The shape of our TF-IDF Avg Word2Vec train vectorizer \",X_train_vectors.shape)\n",
    "print(\"The shape of our TF-IDF Avg Word2Vec test vectorizer \",X_test_vectors.shape)\n",
    "print(\"The shape of our TF-IDF Avg Word2Vec calibration vectorizer \",X_calib_vectors.shape)\n",
    "                                           \n",
    "#Save the bow train and test matrices for later use. We will need this later when we apply our models on them\n",
    "import pickle\n",
    "with open('X_train_TFIDF-W2V.pkl', 'wb') as file:\n",
    "    pickle.dump(X_train_vectors, file)\n",
    "    \n",
    "with open('X_test_TFIDF-W2V.pkl', 'wb') as file:\n",
    "    pickle.dump(X_test_vectors, file)\n",
    "    \n",
    "with open('y_train_TFIDF-W2V.pkl', 'wb') as file:\n",
    "    pickle.dump(y_train, file)\n",
    "    \n",
    "with open('y_test_TFIDF-W2V.pkl', 'wb') as file:\n",
    "    pickle.dump(y_test, file)\n",
    "    \n",
    "with open('X_calib_TFIDF-W2V.pkl', 'wb') as file:\n",
    "    pickle.dump(X_calib_vectors, file)\n",
    "    \n",
    "with open('y_calib_TFIDF-W2V.pkl', 'wb') as file:\n",
    "    pickle.dump(y_calib, file)"
   ]
  },
  {
   "cell_type": "code",
   "execution_count": null,
   "metadata": {},
   "outputs": [],
   "source": []
  }
 ],
 "metadata": {
  "kernelspec": {
   "display_name": "Python 3",
   "language": "python",
   "name": "python3"
  },
  "language_info": {
   "codemirror_mode": {
    "name": "ipython",
    "version": 3
   },
   "file_extension": ".py",
   "mimetype": "text/x-python",
   "name": "python",
   "nbconvert_exporter": "python",
   "pygments_lexer": "ipython3",
   "version": "3.6.5"
  }
 },
 "nbformat": 4,
 "nbformat_minor": 4
}
